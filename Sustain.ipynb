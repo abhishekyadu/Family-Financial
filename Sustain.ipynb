{
 "cells": [
  {
   "cell_type": "code",
   "execution_count": 9,
   "id": "c9928cca",
   "metadata": {},
   "outputs": [],
   "source": [
    "import pandas as pd\n",
    "import numpy as np\n",
    "import matplotlib.pyplot as plt\n",
    "import seaborn as sns\n",
    "import json\n",
    "from flask import Flask, request, jsonify\n"
   ]
  },
  {
   "cell_type": "code",
   "execution_count": 7,
   "id": "09652749",
   "metadata": {},
   "outputs": [],
   "source": [
    "df = pd.read_csv(\"family.csv\")"
   ]
  },
  {
   "cell_type": "code",
   "execution_count": 10,
   "id": "efec8cc3",
   "metadata": {},
   "outputs": [
    {
     "name": "stdout",
     "output_type": "stream",
     "text": [
      "  Family ID       Member ID Transaction Date    Category  Amount  Income  \\\n",
      "0    FAM001  FAM001_Member1       10/07/2024      Travel  409.12  113810   \n",
      "1    FAM001  FAM001_Member1       10/16/2024      Travel  270.91  113810   \n",
      "2    FAM001  FAM001_Member1       10/17/2024   Groceries   91.10  113810   \n",
      "3    FAM001  FAM001_Member1       10/25/2024  Healthcare  198.23  113810   \n",
      "4    FAM001  FAM001_Member1       10/25/2024   Education  206.42  113810   \n",
      "\n",
      "   Savings  Monthly Expenses  Loan Payments  Credit Card Spending  Dependents  \\\n",
      "0    20234              5781           2422                  2959           2   \n",
      "1    20234              5781           2422                  2959           2   \n",
      "2    20234              5781           2422                  2959           2   \n",
      "3    20234              5781           2422                  2959           2   \n",
      "4    20234              5781           2422                  2959           2   \n",
      "\n",
      "   Financial Goals Met (%)  \n",
      "0                       68  \n",
      "1                       68  \n",
      "2                       68  \n",
      "3                       68  \n",
      "4                       68  \n"
     ]
    }
   ],
   "source": [
    "print(df.head())\n"
   ]
  },
  {
   "cell_type": "code",
   "execution_count": 18,
   "id": "b8e4a04c",
   "metadata": {},
   "outputs": [
    {
     "data": {
      "text/html": [
       "<div>\n",
       "<style scoped>\n",
       "    .dataframe tbody tr th:only-of-type {\n",
       "        vertical-align: middle;\n",
       "    }\n",
       "\n",
       "    .dataframe tbody tr th {\n",
       "        vertical-align: top;\n",
       "    }\n",
       "\n",
       "    .dataframe thead th {\n",
       "        text-align: right;\n",
       "    }\n",
       "</style>\n",
       "<table border=\"1\" class=\"dataframe\">\n",
       "  <thead>\n",
       "    <tr style=\"text-align: right;\">\n",
       "      <th></th>\n",
       "      <th>Family ID</th>\n",
       "      <th>Member ID</th>\n",
       "      <th>Transaction Date</th>\n",
       "      <th>Category</th>\n",
       "      <th>Amount</th>\n",
       "      <th>Income</th>\n",
       "      <th>Savings</th>\n",
       "      <th>Monthly Expenses</th>\n",
       "      <th>Loan Payments</th>\n",
       "      <th>Credit Card Spending</th>\n",
       "      <th>Dependents</th>\n",
       "      <th>Financial Goals Met (%)</th>\n",
       "    </tr>\n",
       "  </thead>\n",
       "  <tbody>\n",
       "    <tr>\n",
       "      <th>0</th>\n",
       "      <td>FAM001</td>\n",
       "      <td>FAM001_Member1</td>\n",
       "      <td>10/07/2024</td>\n",
       "      <td>Travel</td>\n",
       "      <td>409.12</td>\n",
       "      <td>113810</td>\n",
       "      <td>20234</td>\n",
       "      <td>5781</td>\n",
       "      <td>2422</td>\n",
       "      <td>2959</td>\n",
       "      <td>2</td>\n",
       "      <td>68</td>\n",
       "    </tr>\n",
       "    <tr>\n",
       "      <th>1</th>\n",
       "      <td>FAM001</td>\n",
       "      <td>FAM001_Member1</td>\n",
       "      <td>10/16/2024</td>\n",
       "      <td>Travel</td>\n",
       "      <td>270.91</td>\n",
       "      <td>113810</td>\n",
       "      <td>20234</td>\n",
       "      <td>5781</td>\n",
       "      <td>2422</td>\n",
       "      <td>2959</td>\n",
       "      <td>2</td>\n",
       "      <td>68</td>\n",
       "    </tr>\n",
       "    <tr>\n",
       "      <th>2</th>\n",
       "      <td>FAM001</td>\n",
       "      <td>FAM001_Member1</td>\n",
       "      <td>10/17/2024</td>\n",
       "      <td>Groceries</td>\n",
       "      <td>91.10</td>\n",
       "      <td>113810</td>\n",
       "      <td>20234</td>\n",
       "      <td>5781</td>\n",
       "      <td>2422</td>\n",
       "      <td>2959</td>\n",
       "      <td>2</td>\n",
       "      <td>68</td>\n",
       "    </tr>\n",
       "    <tr>\n",
       "      <th>3</th>\n",
       "      <td>FAM001</td>\n",
       "      <td>FAM001_Member1</td>\n",
       "      <td>10/25/2024</td>\n",
       "      <td>Healthcare</td>\n",
       "      <td>198.23</td>\n",
       "      <td>113810</td>\n",
       "      <td>20234</td>\n",
       "      <td>5781</td>\n",
       "      <td>2422</td>\n",
       "      <td>2959</td>\n",
       "      <td>2</td>\n",
       "      <td>68</td>\n",
       "    </tr>\n",
       "    <tr>\n",
       "      <th>4</th>\n",
       "      <td>FAM001</td>\n",
       "      <td>FAM001_Member1</td>\n",
       "      <td>10/25/2024</td>\n",
       "      <td>Education</td>\n",
       "      <td>206.42</td>\n",
       "      <td>113810</td>\n",
       "      <td>20234</td>\n",
       "      <td>5781</td>\n",
       "      <td>2422</td>\n",
       "      <td>2959</td>\n",
       "      <td>2</td>\n",
       "      <td>68</td>\n",
       "    </tr>\n",
       "    <tr>\n",
       "      <th>...</th>\n",
       "      <td>...</td>\n",
       "      <td>...</td>\n",
       "      <td>...</td>\n",
       "      <td>...</td>\n",
       "      <td>...</td>\n",
       "      <td>...</td>\n",
       "      <td>...</td>\n",
       "      <td>...</td>\n",
       "      <td>...</td>\n",
       "      <td>...</td>\n",
       "      <td>...</td>\n",
       "      <td>...</td>\n",
       "    </tr>\n",
       "    <tr>\n",
       "      <th>16301</th>\n",
       "      <td>FAM200</td>\n",
       "      <td>FAM200_Member6</td>\n",
       "      <td>10/10/2024</td>\n",
       "      <td>Groceries</td>\n",
       "      <td>79.99</td>\n",
       "      <td>44621</td>\n",
       "      <td>44081</td>\n",
       "      <td>4296</td>\n",
       "      <td>2470</td>\n",
       "      <td>2831</td>\n",
       "      <td>4</td>\n",
       "      <td>92</td>\n",
       "    </tr>\n",
       "    <tr>\n",
       "      <th>16302</th>\n",
       "      <td>FAM200</td>\n",
       "      <td>FAM200_Member6</td>\n",
       "      <td>10/22/2024</td>\n",
       "      <td>Education</td>\n",
       "      <td>228.39</td>\n",
       "      <td>44621</td>\n",
       "      <td>44081</td>\n",
       "      <td>4296</td>\n",
       "      <td>2470</td>\n",
       "      <td>2831</td>\n",
       "      <td>4</td>\n",
       "      <td>92</td>\n",
       "    </tr>\n",
       "    <tr>\n",
       "      <th>16303</th>\n",
       "      <td>FAM200</td>\n",
       "      <td>FAM200_Member6</td>\n",
       "      <td>10/29/2024</td>\n",
       "      <td>Travel</td>\n",
       "      <td>258.63</td>\n",
       "      <td>44621</td>\n",
       "      <td>44081</td>\n",
       "      <td>4296</td>\n",
       "      <td>2470</td>\n",
       "      <td>2831</td>\n",
       "      <td>4</td>\n",
       "      <td>92</td>\n",
       "    </tr>\n",
       "    <tr>\n",
       "      <th>16304</th>\n",
       "      <td>FAM200</td>\n",
       "      <td>FAM200_Member6</td>\n",
       "      <td>10/26/2024</td>\n",
       "      <td>Travel</td>\n",
       "      <td>467.46</td>\n",
       "      <td>44621</td>\n",
       "      <td>44081</td>\n",
       "      <td>4296</td>\n",
       "      <td>2470</td>\n",
       "      <td>2831</td>\n",
       "      <td>4</td>\n",
       "      <td>92</td>\n",
       "    </tr>\n",
       "    <tr>\n",
       "      <th>16305</th>\n",
       "      <td>FAM200</td>\n",
       "      <td>FAM200_Member6</td>\n",
       "      <td>10/27/2024</td>\n",
       "      <td>Entertainment</td>\n",
       "      <td>475.34</td>\n",
       "      <td>44621</td>\n",
       "      <td>44081</td>\n",
       "      <td>4296</td>\n",
       "      <td>2470</td>\n",
       "      <td>2831</td>\n",
       "      <td>4</td>\n",
       "      <td>92</td>\n",
       "    </tr>\n",
       "  </tbody>\n",
       "</table>\n",
       "<p>16306 rows × 12 columns</p>\n",
       "</div>"
      ],
      "text/plain": [
       "      Family ID       Member ID Transaction Date       Category  Amount  \\\n",
       "0        FAM001  FAM001_Member1       10/07/2024         Travel  409.12   \n",
       "1        FAM001  FAM001_Member1       10/16/2024         Travel  270.91   \n",
       "2        FAM001  FAM001_Member1       10/17/2024      Groceries   91.10   \n",
       "3        FAM001  FAM001_Member1       10/25/2024     Healthcare  198.23   \n",
       "4        FAM001  FAM001_Member1       10/25/2024      Education  206.42   \n",
       "...         ...             ...              ...            ...     ...   \n",
       "16301    FAM200  FAM200_Member6       10/10/2024      Groceries   79.99   \n",
       "16302    FAM200  FAM200_Member6       10/22/2024      Education  228.39   \n",
       "16303    FAM200  FAM200_Member6       10/29/2024         Travel  258.63   \n",
       "16304    FAM200  FAM200_Member6       10/26/2024         Travel  467.46   \n",
       "16305    FAM200  FAM200_Member6       10/27/2024  Entertainment  475.34   \n",
       "\n",
       "       Income  Savings  Monthly Expenses  Loan Payments  Credit Card Spending  \\\n",
       "0      113810    20234              5781           2422                  2959   \n",
       "1      113810    20234              5781           2422                  2959   \n",
       "2      113810    20234              5781           2422                  2959   \n",
       "3      113810    20234              5781           2422                  2959   \n",
       "4      113810    20234              5781           2422                  2959   \n",
       "...       ...      ...               ...            ...                   ...   \n",
       "16301   44621    44081              4296           2470                  2831   \n",
       "16302   44621    44081              4296           2470                  2831   \n",
       "16303   44621    44081              4296           2470                  2831   \n",
       "16304   44621    44081              4296           2470                  2831   \n",
       "16305   44621    44081              4296           2470                  2831   \n",
       "\n",
       "       Dependents  Financial Goals Met (%)  \n",
       "0               2                       68  \n",
       "1               2                       68  \n",
       "2               2                       68  \n",
       "3               2                       68  \n",
       "4               2                       68  \n",
       "...           ...                      ...  \n",
       "16301           4                       92  \n",
       "16302           4                       92  \n",
       "16303           4                       92  \n",
       "16304           4                       92  \n",
       "16305           4                       92  \n",
       "\n",
       "[16306 rows x 12 columns]"
      ]
     },
     "execution_count": 18,
     "metadata": {},
     "output_type": "execute_result"
    }
   ],
   "source": [
    "df"
   ]
  },
  {
   "cell_type": "code",
   "execution_count": 11,
   "id": "0352c047",
   "metadata": {},
   "outputs": [
    {
     "name": "stdout",
     "output_type": "stream",
     "text": [
      "<class 'pandas.core.frame.DataFrame'>\n",
      "RangeIndex: 16306 entries, 0 to 16305\n",
      "Data columns (total 12 columns):\n",
      " #   Column                   Non-Null Count  Dtype  \n",
      "---  ------                   --------------  -----  \n",
      " 0   Family ID                16306 non-null  object \n",
      " 1   Member ID                16306 non-null  object \n",
      " 2   Transaction Date         16306 non-null  object \n",
      " 3   Category                 16306 non-null  object \n",
      " 4   Amount                   16306 non-null  float64\n",
      " 5   Income                   16306 non-null  int64  \n",
      " 6   Savings                  16306 non-null  int64  \n",
      " 7   Monthly Expenses         16306 non-null  int64  \n",
      " 8   Loan Payments            16306 non-null  int64  \n",
      " 9   Credit Card Spending     16306 non-null  int64  \n",
      " 10  Dependents               16306 non-null  int64  \n",
      " 11  Financial Goals Met (%)  16306 non-null  int64  \n",
      "dtypes: float64(1), int64(7), object(4)\n",
      "memory usage: 1.5+ MB\n",
      "None\n"
     ]
    }
   ],
   "source": [
    "print(df.info())"
   ]
  },
  {
   "cell_type": "code",
   "execution_count": 12,
   "id": "a63b95ec",
   "metadata": {},
   "outputs": [
    {
     "name": "stdout",
     "output_type": "stream",
     "text": [
      "             Amount         Income       Savings  Monthly Expenses  \\\n",
      "count  16306.000000   16306.000000  16306.000000      16306.000000   \n",
      "mean     256.368534   90340.503925  24473.998038       3948.522384   \n",
      "std      141.153813   34740.834136  14828.955695       1689.987801   \n",
      "min       10.030000   30851.000000   1037.000000       1013.000000   \n",
      "25%      134.820000   59871.000000  11016.000000       2582.000000   \n",
      "50%      256.055000   90142.000000  25504.000000       3721.000000   \n",
      "75%      379.240000  119733.000000  37422.000000       5450.000000   \n",
      "max      499.910000  149871.000000  49217.000000       6968.000000   \n",
      "\n",
      "       Loan Payments  Credit Card Spending    Dependents  \\\n",
      "count   16306.000000          16306.000000  16306.000000   \n",
      "mean     2529.978965           1782.880535      3.201521   \n",
      "std      1384.105561            716.595101      1.468880   \n",
      "min         3.000000            510.000000      0.000000   \n",
      "25%      1390.000000           1221.000000      2.000000   \n",
      "50%      2548.000000           1705.000000      3.000000   \n",
      "75%      3724.000000           2422.000000      4.000000   \n",
      "max      4974.000000           2999.000000      5.000000   \n",
      "\n",
      "       Financial Goals Met (%)  \n",
      "count             16306.000000  \n",
      "mean                 59.418006  \n",
      "std                  23.444304  \n",
      "min                  21.000000  \n",
      "25%                  37.000000  \n",
      "50%                  58.000000  \n",
      "75%                  79.000000  \n",
      "max                 100.000000  \n"
     ]
    }
   ],
   "source": [
    "print(df.describe())"
   ]
  },
  {
   "cell_type": "code",
   "execution_count": 13,
   "id": "db052886",
   "metadata": {},
   "outputs": [
    {
     "data": {
      "text/plain": [
       "Family ID                  0\n",
       "Member ID                  0\n",
       "Transaction Date           0\n",
       "Category                   0\n",
       "Amount                     0\n",
       "Income                     0\n",
       "Savings                    0\n",
       "Monthly Expenses           0\n",
       "Loan Payments              0\n",
       "Credit Card Spending       0\n",
       "Dependents                 0\n",
       "Financial Goals Met (%)    0\n",
       "dtype: int64"
      ]
     },
     "execution_count": 13,
     "metadata": {},
     "output_type": "execute_result"
    }
   ],
   "source": [
    "df.isnull().sum()"
   ]
  },
  {
   "cell_type": "code",
   "execution_count": 14,
   "id": "4314cf74",
   "metadata": {},
   "outputs": [],
   "source": [
    "# there is no null values"
   ]
  },
  {
   "cell_type": "code",
   "execution_count": 20,
   "id": "f6d66b0a",
   "metadata": {},
   "outputs": [],
   "source": [
    "df['Savings'] = df['Income'] - df['Monthly Expenses']\n",
    "df['Savings_to_Income'] = df['Savings'] / df['Income']\n",
    "df['Expense_to_Income'] = df['Monthly Expenses'] / df['Income']\n",
    "df['Loan_to_Income'] = df['Loan Payments'] / df['Income']\n"
   ]
  },
  {
   "cell_type": "code",
   "execution_count": 22,
   "id": "71f05770",
   "metadata": {},
   "outputs": [],
   "source": [
    "def calculate_financial_score(row):\n",
    "    \n",
    "    weights = {\n",
    "        \"Savings_to_Income\": 0.4,\n",
    "        \"Expense_to_Income\": 0.2,\n",
    "        \"Loan_to_Income\": 0.2,\n",
    "       \n",
    "    }\n",
    "\n",
    "    # Calculate score\n",
    "    score = (\n",
    "        row['Savings_to_Income'] * weights['Savings_to_Income'] +\n",
    "        (1 - row['Expense_to_Income']) * weights['Expense_to_Income'] +\n",
    "        (1 - row['Loan_to_Income']) * weights['Loan_to_Income']\n",
    "    ) * 100\n",
    "\n",
    "    return max(0, min(100, score))  \n",
    "\n",
    "# Apply scoring function\n",
    "df['Financial_Score'] = df.apply(calculate_financial_score, axis=1)\n"
   ]
  },
  {
   "cell_type": "code",
   "execution_count": 30,
   "id": "c9acdd15",
   "metadata": {},
   "outputs": [
    {
     "data": {
      "image/png": "[encoded data removed]",
      "text/plain": [
       "<Figure size 640x480 with 1 Axes>"
      ]
     },
     "metadata": {},
     "output_type": "display_data"
    },
    {
     "data": {
      "image/png": "[encoded data removed]",
      "text/plain": [
       "<Figure size 640x480 with 1 Axes>"
      ]
     },
     "metadata": {},
     "output_type": "display_data"
    }
   ],
   "source": [
    "# Spending distribution\n",
    "sns.histplot(df['Monthly Expenses'], kde=True)\n",
    "plt.title('Spending Distribution')\n",
    "plt.xlabel('Expenses')\n",
    "plt.ylabel('Frequency')\n",
    "plt.show()\n",
    "\n",
    "# Financial scores\n",
    "sns.histplot(df['Financial_Score'], kde=True, color='green')\n",
    "plt.title('Financial Score Distribution')\n",
    "plt.xlabel('Score')\n",
    "plt.ylabel('Frequency')\n",
    "plt.show()\n",
    "\n",
    "# Family-wise scores (assuming 'Family_ID' column exists)\n",
    "#family_scores = df.groupby('Family ID')['Financial_Score'].mean().reset_index()\n",
    "#sns.barplot(x='Family ID', y='Financial_Score', df=family_scores)\n",
    "#plt.title('Family-Wise Financial Scores')\n",
    "#plt.xlabel('Family ID')\n",
    "#plt.ylabel('Average Score')\n",
    "#plt.xticks(rotation=45)\n",
    "#plt.show() \n",
    "# i was getting error here\n"
   ]
  },
  {
   "cell_type": "code",
   "execution_count": 31,
   "id": "67501831",
   "metadata": {},
   "outputs": [
    {
     "name": "stdout",
     "output_type": "stream",
     "text": [
      " * Serving Flask app '__main__'\n",
      " * Debug mode: on\n"
     ]
    },
    {
     "name": "stderr",
     "output_type": "stream",
     "text": [
      "WARNING: This is a development server. Do not use it in a production deployment. Use a production WSGI server instead.\n",
      " * Running on http://127.0.0.1:5000\n",
      "Press CTRL+C to quit\n",
      " * Restarting with watchdog (windowsapi)\n"
     ]
    },
    {
     "ename": "SystemExit",
     "evalue": "1",
     "output_type": "error",
     "traceback": [
      "An exception has occurred, use %tb to see the full traceback.\n",
      "\u001b[1;31mSystemExit\u001b[0m\u001b[1;31m:\u001b[0m 1\n"
     ]
    },
    {
     "name": "stderr",
     "output_type": "stream",
     "text": [
      "C:\\Users\\abhis\\anaconda3\\Lib\\site-packages\\IPython\\core\\interactiveshell.py:3534: UserWarning: To exit: use 'exit', 'quit', or Ctrl-D.\n",
      "  warn(\"To exit: use 'exit', 'quit', or Ctrl-D.\", stacklevel=1)\n"
     ]
    }
   ],
   "source": [
    "app = Flask(__name__)\n",
    "\n",
    "@app.route('/score', methods=['POST'])\n",
    "def calculate_score():\n",
    "    # Get data from request\n",
    "    input_data = request.get_json()\n",
    "\n",
    "    # Process input data\n",
    "    df = pd.DataFrame([input_data])\n",
    "    df['Savings'] = df['Income'] - df['Expenses']\n",
    "    df['Savings_to_Income'] = df['Savings'] / df['Income']\n",
    "    df['Expense_to_Income'] = df['Expenses'] / df['Income']\n",
    "    df['Loan_to_Income'] = df['Loan Payments'] / df['Income']\n",
    "\n",
    "    # Calculate score\n",
    "    df['Financial_Score'] = df.apply(calculate_financial_score, axis=1)\n",
    "\n",
    "    # Create response\n",
    "    response = {\n",
    "        \"Financial_Score\": df['Financial_Score'].iloc[0],\n",
    "        \"Insights\": \"Savings are below recommended levels\" if df['Savings_to_Income'].iloc[0] < 0.2 else \"Good financial health\"\n",
    "    }\n",
    "    return jsonify(response)\n",
    "\n",
    "if __name__ == \"__main__\":\n",
    "    app.run(debug=True)\n"
   ]
  },
  {
   "cell_type": "code",
   "execution_count": 32,
   "id": "792820c3",
   "metadata": {},
   "outputs": [
    {
     "name": "stdout",
     "output_type": "stream",
     "text": [
      " * Serving Flask app '__main__'\n",
      " * Debug mode: on\n"
     ]
    },
    {
     "name": "stderr",
     "output_type": "stream",
     "text": [
      "WARNING: This is a development server. Do not use it in a production deployment. Use a production WSGI server instead.\n",
      " * Running on http://127.0.0.1:5000\n",
      "Press CTRL+C to quit\n"
     ]
    }
   ],
   "source": [
    "from flask import Flask\n",
    "\n",
    "app = Flask(__name__)\n",
    "\n",
    "@app.route(\"/\")\n",
    "def home():\n",
    "    return \"Flask is running!\"\n",
    "\n",
    "if __name__ == \"__main__\":\n",
    "    # Explicitly disable the reloader when running in Jupyter\n",
    "    app.run(debug=True, use_reloader=False)\n",
    "\n"
   ]
  },
  {
   "cell_type": "code",
   "execution_count": null,
   "id": "b451d004",
   "metadata": {},
   "outputs": [],
   "source": [
    " "
   ]
  }
 ],
 "metadata": {
  "kernelspec": {
   "display_name": "Python 3 (ipykernel)",
   "language": "python",
   "name": "python3"
  },
  "language_info": {
   "codemirror_mode": {
    "name": "ipython",
    "version": 3
   },
   "file_extension": ".py",
   "mimetype": "text/x-python",
   "name": "python",
   "nbconvert_exporter": "python",
   "pygments_lexer": "ipython3",
   "version": "3.11.5"
  }
 },
 "nbformat": 4,
 "nbformat_minor": 5
}
